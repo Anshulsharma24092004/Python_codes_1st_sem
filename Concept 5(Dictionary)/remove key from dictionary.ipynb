{
 "cells": [
  {
   "cell_type": "code",
   "execution_count": 11,
   "metadata": {},
   "outputs": [
    {
     "name": "stdout",
     "output_type": "stream",
     "text": [
      "{'a': 100, 'c': 300}\n",
      "{'a': 100, 'c': 300, 'g': 200}\n"
     ]
    }
   ],
   "source": [
    "dict1 = {'a': 100, 'b': 200, 'c': 300}\n",
    "remove_key='b'\n",
    "a=dict1.pop(remove_key)\n",
    "print(dict1)\n",
    "dict1['g']=a\n",
    "print(dict1)\n",
    "#this function returns the whole dictionary except the key and value which's key we have removed.\n"
   ]
  }
 ],
 "metadata": {
  "kernelspec": {
   "display_name": "Python 3",
   "language": "python",
   "name": "python3"
  },
  "language_info": {
   "codemirror_mode": {
    "name": "ipython",
    "version": 3
   },
   "file_extension": ".py",
   "mimetype": "text/x-python",
   "name": "python",
   "nbconvert_exporter": "python",
   "pygments_lexer": "ipython3",
   "version": "3.11.4"
  }
 },
 "nbformat": 4,
 "nbformat_minor": 2
}
