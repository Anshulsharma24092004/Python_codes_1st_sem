{
 "cells": [
  {
   "cell_type": "code",
   "execution_count": null,
   "metadata": {},
   "outputs": [],
   "source": [
    "tempC = float(input(\"enter temperature in degree Celcius\"))\n",
    "tempF = (tempC*1.8)+32\n",
    "# applied the formula to change the temperature from celcius to ferhenheit\n",
    "if tempF > 90:\n",
    "    print(\"temperature is hot\")\n",
    "else:\n",
    "    print(\"temperature is pleasent\")"
   ]
  }
 ],
 "metadata": {
  "language_info": {
   "name": "python"
  }
 },
 "nbformat": 4,
 "nbformat_minor": 2
}
