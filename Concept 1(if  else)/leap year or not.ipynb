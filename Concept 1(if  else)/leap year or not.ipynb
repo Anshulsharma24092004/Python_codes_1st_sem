{
 "cells": [
  {
   "cell_type": "code",
   "execution_count": null,
   "metadata": {},
   "outputs": [],
   "source": [
    "year = int(input(\"enter the year\"))\n",
    "if year % 4 == 0:\n",
    "#all the years which are divisible by 4 \n",
    "    if year % 400 == 0:\n",
    "#all years which are divisible by 400 are leap year\n",
    "        print(year,\"is a leap year\")\n",
    "    elif year % 100 == 0:\n",
    "#all years which are divisible by 100 are not leap year\n",
    "        print(year,\"is not a leap year\")\n",
    "    else:\n",
    "#rest of all years which are divisible by 4 and not bt 100 and 400 are leap year\n",
    "        print(year,\"is a leap year\")\n",
    "else:\n",
    "#all years which are not divisible by 4 are not leap year\n",
    "    print(year,\"is not a leap year\")"
   ]
  }
 ],
 "metadata": {
  "kernelspec": {
   "display_name": "Python 3",
   "language": "python",
   "name": "python3"
  },
  "language_info": {
   "codemirror_mode": {
    "name": "ipython",
    "version": 3
   },
   "file_extension": ".py",
   "mimetype": "text/x-python",
   "name": "python",
   "nbconvert_exporter": "python",
   "pygments_lexer": "ipython3",
   "version": "3.11.4"
  }
 },
 "nbformat": 4,
 "nbformat_minor": 2
}
