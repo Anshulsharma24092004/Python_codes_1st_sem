{
 "cells": [
  {
   "cell_type": "code",
   "execution_count": null,
   "metadata": {},
   "outputs": [],
   "source": [
    "num1 = int(input(\"enter the first intiger\"))\n",
    "num2 = int(input(\"enter the second intiger\"))\n",
    "if num1 > num2 :\n",
    "#if num1 is greater than num2 then num1 is larger\n",
    "    print(num1,\"is larger intiger\")\n",
    "elif num2 == num1 :\n",
    "#if both numbers are equal then no number is larger\n",
    "    print(\"both intiger are equal, no intiger is larger\")\n",
    "else:\n",
    "#if num1 is neither greater nor equal then num2 is larger\n",
    "    print(num2,\"is larger intiger\")\n",
    "\n"
   ]
  }
 ],
 "metadata": {
  "language_info": {
   "name": "python"
  }
 },
 "nbformat": 4,
 "nbformat_minor": 2
}
