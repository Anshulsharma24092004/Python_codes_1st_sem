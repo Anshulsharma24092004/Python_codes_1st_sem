{
 "cells": [
  {
   "cell_type": "code",
   "execution_count": 14,
   "metadata": {},
   "outputs": [
    {
     "name": "stdout",
     "output_type": "stream",
     "text": [
      "quadratic equation is 1.0 x^2+ 4.0 x+ 4.0 = 0\n",
      "solutions are -2.0 and -2.0\n"
     ]
    }
   ],
   "source": [
#efrdgh
    "#ax^2+bx+c=0\n",
    "a = float(input(\"enter cooficient of x^2\"))\n",
    "b = float(input(\"enter cofficient of x\"))\n",
    "c = float(input(\"enter constant value\"))\n",
    "print(\"quadratic equation is\",a,\"x^2+\",b,\"x+\",c,\"= 0\")\n",
    "if (b**2)-4*a*c<0:\n",
    "    print(\"solutions are imaginary\")\n",
    "else:\n",
    "    print(\"solutions are\",(-b+((b**2)-4*a*c)**0.5)/(2*a),\"and\",(-b-((b**2)-4*a*c)**0.5)/(2*a))"
   ]
  },
  {
   "cell_type": "code",
   "execution_count": null,
   "metadata": {},
   "outputs": [],
   "source": []
  }
 ],
 "metadata": {
  "kernelspec": {
   "display_name": "Python 3",
   "language": "python",
   "name": "python3"
  },
  "language_info": {
   "codemirror_mode": {
    "name": "ipython",
    "version": 3
   },
   "file_extension": ".py",
   "mimetype": "text/x-python",
   "name": "python",
   "nbconvert_exporter": "python",
   "pygments_lexer": "ipython3",
   "version": "3.11.4"
  }
 },
 "nbformat": 4,
 "nbformat_minor": 2
}
