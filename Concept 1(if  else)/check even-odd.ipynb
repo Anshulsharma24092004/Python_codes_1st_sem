{
 "cells": [
  {
   "cell_type": "code",
   "execution_count": null,
   "metadata": {},
   "outputs": [],
   "source": [
    "num1 = int(input(\"enter the intiger\"))\n",
    "if num1 % 2 == 0:\n",
    "#if this int(num1) is divided by two and remainder is zero then it is an even number\n",
    "    print(num1,\"is even\")\n",
    "else:\n",
    "#if this int(num1) gives any remainder after dividing by two it is an odd number\n",
    "    print(num1,\"is not even\")"
   ]
  }
 ],
 "metadata": {
  "kernelspec": {
   "display_name": "Python 3",
   "language": "python",
   "name": "python3"
  },
  "language_info": {
   "codemirror_mode": {
    "name": "ipython",
    "version": 3
   },
   "file_extension": ".py",
   "mimetype": "text/x-python",
   "name": "python",
   "nbconvert_exporter": "python",
   "pygments_lexer": "ipython3",
   "version": "3.11.4"
  }
 },
 "nbformat": 4,
 "nbformat_minor": 2
}
