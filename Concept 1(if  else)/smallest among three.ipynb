{
 "cells": [
  {
   "cell_type": "code",
   "execution_count": null,
   "metadata": {},
   "outputs": [],
   "source": [
    "num1 = int(input(\"enter first intiger\"))\n",
    "num2 = int(input(\"enter second intiger\"))\n",
    "num3 = int(input(\"enter third intiger\"))\n",
    "if num1 < num2:\n",
    "#if num1 is lesser than num2 then either num1 or num3 is smallest\n",
    "    if num1 < num3:\n",
    "#now if num1 is lesser than num3 then num1 is smallest\n",
    "        print(num1,\"is smallest\")\n",
    "    elif num1 > num3:\n",
    "#now if num3 is lesser than num1 then num3 is smallest\n",
    "        print(num3,\"is smallest\")\n",
    "    else:\n",
    "#if neither num1 nor num3 is lesser then num1 and num3 are equal and smallest\n",
    "        print(num1,\"is smallest\")\n",
    "elif num2 < num1:\n",
    "#if num2 is lesser than num1 then either num2 or num3 is smallest\n",
    "    if num2 < num3:\n",
    "#now if num2 is lesser than num3 then num1 is smallest\n",
    "        print(num2,\"is smallest\")\n",
    "    elif num2 > num3:\n",
    "#now if num3 is lesser than num2 then num3 is smallest      \n",
    "        print(num3,\"is smallest\")\n",
    "    else:\n",
    "#if neither num2 nor num3 is lesser then num2 and num3 are equal and smallest\n",
    "        print(num2,\"is smallest\")\n",
    "elif num1 == num2:\n",
    "#now if num1 and num2 are equal then either num1=num2 are smallest or num3 is smallest \n",
    "    if num1 < num3:\n",
    "#if num1 is lesser than num3 then num1=num2 is smallest\n",
    "        print(num1,\"is smallest\")\n",
    "    elif num1 > num3:\n",
    "#if num3 is lesser than num1 then num3 is smallest\n",
    "        print(num3,\"is smallest\")\n",
    "    else:\n",
    "#if neither num1 nor num3 is lesser then all the numbers are equal\n",
    "        print(\"all numbers are equal\")"
   ]
  }
 ],
 "metadata": {
  "kernelspec": {
   "display_name": "Python 3",
   "language": "python",
   "name": "python3"
  },
  "language_info": {
   "codemirror_mode": {
    "name": "ipython",
    "version": 3
   },
   "file_extension": ".py",
   "mimetype": "text/x-python",
   "name": "python",
   "nbconvert_exporter": "python",
   "pygments_lexer": "ipython3",
   "version": "3.11.4"
  }
 },
 "nbformat": 4,
 "nbformat_minor": 2
}
