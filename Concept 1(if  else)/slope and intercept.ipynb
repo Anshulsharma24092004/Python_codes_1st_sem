{
 "cells": [
  {
   "cell_type": "code",
   "execution_count": null,
   "metadata": {},
   "outputs": [],
   "source": [
    "x1 = float(input(\"enter first x coordinate\"))\n",
    "y1 = float(input(\"enter first y coordinae\"))\n",
    "x2 = float(input(\"enter second x coordinate\"))\n",
    "y2 = float(input(\"enter second y coordinate\"))\n",
    "if x1==x2:\n",
    "#if x1 is equal to x2 then then line is verticle and slope and intercept of line is undefined\n",
    "    print(\"slope of line(\",x1,\",\",y1,\") to (\",x2,\",\",y2,\")is infinite or undefind\")\n",
    "    print(\"intercept of line(\",x1,\",\",y1,\") to (\",x2,\",\",y2,\") is undefined\")\n",
    "else:\n",
    "#for all other conditions we have calculated slope and intercept with the help of formula\n",
    "    print(\"slope of line(\",x1,\",\",y1,\") to (\",x2,\",\",y2,\") is\",(y2-y1)/(x2-x1))\n",
    "    print(\"intercept of line(\",x1,\",\",y1,\") to (\",x2,\",\",y2,\") is\",(((y1-y2)/(x2-x1))*x1)+y1)"
   ]
  }
 ],
 "metadata": {
  "kernelspec": {
   "display_name": "Python 3",
   "language": "python",
   "name": "python3"
  },
  "language_info": {
   "codemirror_mode": {
    "name": "ipython",
    "version": 3
   },
   "file_extension": ".py",
   "mimetype": "text/x-python",
   "name": "python",
   "nbconvert_exporter": "python",
   "pygments_lexer": "ipython3",
   "version": "3.11.4"
  }
 },
 "nbformat": 4,
 "nbformat_minor": 2
}
