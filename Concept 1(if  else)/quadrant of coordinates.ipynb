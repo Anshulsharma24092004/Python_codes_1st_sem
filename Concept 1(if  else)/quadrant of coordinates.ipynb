{
 "cells": [
  {
   "cell_type": "code",
   "execution_count": null,
   "metadata": {},
   "outputs": [],
   "source": [
    "x1 = float(input(\"enter the distance of point on x axis from centre\"))\n",
    "y1 = float(input(\"enter the distance of point on y axis from centre\"))\n",
    "if x1 > 0:\n",
    "#if x1 is positive point will lie either in first or in fourth quadrant or it will lie on x axis\n",
    "    if y1 > 0:\n",
    "        print(\"(\",x1,\",\",y1,\")is in first quadrant\")\n",
    "#if y1 is positive point will be in first quadrant\n",
    "    elif y1 == 0:\n",
    "#if y1 is zero point will be on x axis \n",
    "        print(\"(\",x1,\",\",y1,\")is at x axis\")\n",
    "    else:\n",
    "#if y1 is negative point will be in fourth quadrant\n",
    "        print(\"(\",x1,\",\",y1,\")is in fourth quadrant\")\n",
    "elif x1 < 0:\n",
    "#if x1 is negative point will lie either in second or in third quadrant or it will lie on x axis\n",
    "    if y1 > 0:\n",
    "#if y1 is positive point will be in second quadrant\n",
    "        print(\"(\",x1,\",\",y1,\")is in second quadrant\")\n",
    "    elif y1 == 0:\n",
    "#if y1 is zero point will be on x axis \n",
    "        print(\"(\",x1,\",\",y1,\")is at x axis\")\n",
    "    else:\n",
    "#if y1 is negative point will be in third quadrant\n",
    "        print(\"(\",x1,\",\",y1,\")is in third quadrant\")\n",
    "elif x1 == 0 and y1 == 0:\n",
    "#if both x1 and y1 are at zero, the point will be at centre\n",
    "    print(\"(\",x1,\",\",y1,\")is at centre\")"
   ]
  }
 ],
 "metadata": {
  "kernelspec": {
   "display_name": "Python 3",
   "language": "python",
   "name": "python3"
  },
  "language_info": {
   "codemirror_mode": {
    "name": "ipython",
    "version": 3
   },
   "file_extension": ".py",
   "mimetype": "text/x-python",
   "name": "python",
   "nbconvert_exporter": "python",
   "pygments_lexer": "ipython3",
   "version": "3.11.4"
  }
 },
 "nbformat": 4,
 "nbformat_minor": 2
}
