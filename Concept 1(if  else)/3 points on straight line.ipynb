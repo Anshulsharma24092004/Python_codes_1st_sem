{
 "cells": [
  {
   "cell_type": "code",
   "execution_count": null,
   "metadata": {},
   "outputs": [],
   "source": [
    "x1 = float(input(\"enter first x coordinate\"))\n",
    "y1 = float(input(\"enter first y coordinate\"))\n",
    "x2 = float(input(\"enter second x coordinate\"))\n",
    "y2 = float(input(\"enter second y coordinate\"))\n",
    "x3 = float(input(\"enter third x coordinate\"))\n",
    "y3 = float(input(\"enter third y coordinate\"))\n",
    "if x1==x2==x3:\n",
    "#if all x coordinates are on same then line is verticle\n",
    "    print(\"given line is straight and verticle\")\n",
    "elif x1==x2:\n",
    "#if x1 is only equal to x2 and not x3 then line is not straight\n",
    "    print(\"given line is not straight\")\n",
    "elif x1==x3:\n",
    "#if x1 is only equal to x3 and not x2 then line is not straight\n",
    "    print(\"given line is not straight\")\n",
    "else:\n",
    "#now if x coordinates are not equal to each other then it depends on the slope of two pair of points are that line is straight or not\n",
    "    if (y2-y1)/(x2-x1) == (y3-y1)/(x3-x1):\n",
    "#if slope of line of pair of points then line is straight \n",
    "        print(\"given line is a straight line\")\n",
    "    else:\n",
    "#if slope is not same then line is not straight\n",
    "        print(\"given line is not a straight line\")"
   ]
  }
 ],
 "metadata": {
  "kernelspec": {
   "display_name": "Python 3",
   "language": "python",
   "name": "python3"
  },
  "language_info": {
   "codemirror_mode": {
    "name": "ipython",
    "version": 3
   },
   "file_extension": ".py",
   "mimetype": "text/x-python",
   "name": "python",
   "nbconvert_exporter": "python",
   "pygments_lexer": "ipython3",
   "version": "3.11.4"
  }
 },
 "nbformat": 4,
 "nbformat_minor": 2
}
