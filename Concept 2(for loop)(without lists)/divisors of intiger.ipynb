{
 "cells": [
  {
   "cell_type": "code",
   "execution_count": null,
   "metadata": {},
   "outputs": [],
   "source": [
    "int1 = int(input(\"enter a positive intiger\"))\n",
    "list1=[]\n",
    "#we've created a empty list, so we can append all the output of for loop in this empty list\n",
    "for i in range(1,int1+1):\n",
    "    if int1%i==0:\n",
    "#using for loop we have taken numbers from 1 to the given number and now we divide all of them from the given number, numbers which gives reminder zero will be appended to the empty list and the appended list will be printed.'''\n",
    "        list1.append(i)\n",
    "print(list1)\n",
    "\n"
   ]
  }
 ],
 "metadata": {
  "kernelspec": {
   "display_name": "Python 3",
   "language": "python",
   "name": "python3"
  },
  "language_info": {
   "codemirror_mode": {
    "name": "ipython",
    "version": 3
   },
   "file_extension": ".py",
   "mimetype": "text/x-python",
   "name": "python",
   "nbconvert_exporter": "python",
   "pygments_lexer": "ipython3",
   "version": "3.11.4"
  }
 },
 "nbformat": 4,
 "nbformat_minor": 2
}
