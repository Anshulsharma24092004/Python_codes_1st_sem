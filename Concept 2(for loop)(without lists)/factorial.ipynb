{
 "cells": [
  {
   "cell_type": "code",
   "execution_count": null,
   "metadata": {},
   "outputs": [],
   "source": [
    "int1 = int(input(\"enter a positive intiger\"))\n",
    "x=1\n",
    "for i in range(2,int1+1):\n",
    "# using for loop we take numbers from 2 to given intigers and multiply them one by one and finally we print the final multiplied answer and this is the factorial.\n",
    "    x=x*i\n",
    "print(x)"
   ]
  }
 ],
 "metadata": {
  "kernelspec": {
   "display_name": "Python 3",
   "language": "python",
   "name": "python3"
  },
  "language_info": {
   "codemirror_mode": {
    "name": "ipython",
    "version": 3
   },
   "file_extension": ".py",
   "mimetype": "text/x-python",
   "name": "python",
   "nbconvert_exporter": "python",
   "pygments_lexer": "ipython3",
   "version": "3.11.4"
  }
 },
 "nbformat": 4,
 "nbformat_minor": 2
}
