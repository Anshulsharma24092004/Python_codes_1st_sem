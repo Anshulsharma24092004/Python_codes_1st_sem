{
 "cells": [
  {
   "cell_type": "code",
   "execution_count": null,
   "metadata": {},
   "outputs": [],
   "source": [
    "list1 = [5,5,5,9,9,9,10,10,10]\n",
    "x=0\n",
    "for i in list1:\n",
    "    x=x+i\n",
    "mean1 = x/len(list1)\n",
    "print(mean1)\n",
    "h=0\n",
    "for i in list1:\n",
    "    k=i-mean1\n",
    "    m=k**2\n",
    "    h=h+m\n",
    "p = h/((len(list1))-1)\n",
    "dev = p**0.5\n",
    "print(dev)\n"
   ]
  }
 ],
 "metadata": {
  "kernelspec": {
   "display_name": "Python 3",
   "language": "python",
   "name": "python3"
  },
  "language_info": {
   "codemirror_mode": {
    "name": "ipython",
    "version": 3
   },
   "file_extension": ".py",
   "mimetype": "text/x-python",
   "name": "python",
   "nbconvert_exporter": "python",
   "pygments_lexer": "ipython3",
   "version": "3.11.4"
  }
 },
 "nbformat": 4,
 "nbformat_minor": 2
}
