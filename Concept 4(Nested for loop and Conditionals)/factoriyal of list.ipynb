{
 "cells": [
  {
   "cell_type": "code",
   "execution_count": 1,
   "metadata": {},
   "outputs": [
    {
     "name": "stdout",
     "output_type": "stream",
     "text": [
      "[479001600, 6227020800, 3628800, 39916800, 362880, 40320, 5040, 720, 120, 24, 6, 2, 1]\n"
     ]
    }
   ],
   "source": [
    "list1 = [12,13,10,11,9,8,7,6,5,4,3,2,1]\n",
    "list2 = []\n",
    "#created a empty list\n",
    "for i in list1:\n",
    "#using for looptaken elements one by one from list1.\n",
    "    k=1\n",
    "    for x in range(2,i+1):\n",
    "#using for loop for perticular element get multiplied it up to the number from 2.\n",
    "        k=k*x\n",
    "    list2.append(k)\n",
    "print(list2)"
   ]
  }
 ],
 "metadata": {
  "kernelspec": {
   "display_name": "Python 3",
   "language": "python",
   "name": "python3"
  },
  "language_info": {
   "codemirror_mode": {
    "name": "ipython",
    "version": 3
   },
   "file_extension": ".py",
   "mimetype": "text/x-python",
   "name": "python",
   "nbconvert_exporter": "python",
   "pygments_lexer": "ipython3",
   "version": "3.11.4"
  }
 },
 "nbformat": 4,
 "nbformat_minor": 2
}
