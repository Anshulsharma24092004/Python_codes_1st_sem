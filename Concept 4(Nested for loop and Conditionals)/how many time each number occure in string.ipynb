{
 "cells": [
  {
   "cell_type": "code",
   "execution_count": 14,
   "metadata": {},
   "outputs": [
    {
     "name": "stdout",
     "output_type": "stream",
     "text": [
      "[1, 2, 3, 4, 5, 6, 7]\n",
      "1 : 3\n",
      "2 : 2\n",
      "3 : 6\n",
      "4 : 1\n",
      "5 : 2\n",
      "6 : 2\n",
      "7 : 3\n"
     ]
    }
   ],
   "source": [
    "list1=[1,1,1,2,2,3,3,3,3,3,3,4,5,6,7,7,5,6,7]\n",
    "list2=[]\n",
    "for i in list1:\n",
    "    if i not in list2:\n",
    "        list2.append(i)\n",
    "print(list2)\n",
    "\n",
    "for k in list2:\n",
    "    m=0\n",
    "    for o in list1:\n",
    "        if k==o:\n",
    "            m=m+1\n",
    "    print(k,':',m)"
   ]
  },
  {
   "cell_type": "code",
   "execution_count": null,
   "metadata": {},
   "outputs": [],
   "source": []
  }
 ],
 "metadata": {
  "kernelspec": {
   "display_name": "Python 3",
   "language": "python",
   "name": "python3"
  },
  "language_info": {
   "codemirror_mode": {
    "name": "ipython",
    "version": 3
   },
   "file_extension": ".py",
   "mimetype": "text/x-python",
   "name": "python",
   "nbconvert_exporter": "python",
   "pygments_lexer": "ipython3",
   "version": "3.11.4"
  }
 },
 "nbformat": 4,
 "nbformat_minor": 2
}
