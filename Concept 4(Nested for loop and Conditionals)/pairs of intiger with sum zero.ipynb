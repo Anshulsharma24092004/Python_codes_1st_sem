{
 "cells": [
  {
   "cell_type": "code",
   "execution_count": 3,
   "metadata": {},
   "outputs": [
    {
     "name": "stdout",
     "output_type": "stream",
     "text": [
      "1 and -1 are the pair whose sum is zero\n",
      "2 and -2 are the pair whose sum is zero\n",
      "3 and -3 are the pair whose sum is zero\n",
      "4 and -4 are the pair whose sum is zero\n",
      "6 and -6 are the pair whose sum is zero\n"
     ]
    }
   ],
   "source": [
    "list1 = [1,2,3,4,5,6,7,-1,-2,-3,-4,-6]\n",
    "for i in list1:\n",
    "    for k in list1:\n",
    "        if i>0:\n",
    "            if i == -k:\n",
    "                print(i,\"and\",k,\"are the pair whose sum is zero\")"
   ]
  },
  {
   "cell_type": "code",
   "execution_count": null,
   "metadata": {},
   "outputs": [],
   "source": []
  }
 ],
 "metadata": {
  "kernelspec": {
   "display_name": "Python 3",
   "language": "python",
   "name": "python3"
  },
  "language_info": {
   "codemirror_mode": {
    "name": "ipython",
    "version": 3
   },
   "file_extension": ".py",
   "mimetype": "text/x-python",
   "name": "python",
   "nbconvert_exporter": "python",
   "pygments_lexer": "ipython3",
   "version": "3.11.4"
  }
 },
 "nbformat": 4,
 "nbformat_minor": 2
}
