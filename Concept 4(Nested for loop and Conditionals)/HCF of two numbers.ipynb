{
 "cells": [
  {
   "cell_type": "code",
   "execution_count": null,
   "metadata": {},
   "outputs": [],
   "source": [
    "num1 = int(input(\"enter the first number\"))\n",
    "num2 = int(input(\"enter the second number\"))\n",
    "print(num1,\",\",num2)\n",
    "if num1>=num2:\n",
    "    for i in range(num1,(num1*num2)+1):\n",
    "        if i%num1 == 0 and i%num2 ==0:\n",
    "            HCF =int( (num1*num2)/i)\n",
    "            print(HCF,\"is HCF of\",num1,\",\",num2)\n",
    "            break\n",
    "else:\n",
    "    for i in range(num2,(num1*num2)+1):\n",
    "        if i%num1 == 0 and i%num2 ==0:\n",
    "            HCF =int( (num1*num2)/i)\n",
    "            print(HCF,\"is HCF of\",num1,\",\",num2)\n",
    "            break"
   ]
  }
 ],
 "metadata": {
  "kernelspec": {
   "display_name": "Python 3",
   "language": "python",
   "name": "python3"
  },
  "language_info": {
   "codemirror_mode": {
    "name": "ipython",
    "version": 3
   },
   "file_extension": ".py",
   "mimetype": "text/x-python",
   "name": "python",
   "nbconvert_exporter": "python",
   "pygments_lexer": "ipython3",
   "version": "3.11.4"
  }
 },
 "nbformat": 4,
 "nbformat_minor": 2
}
